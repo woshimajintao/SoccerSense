{
  "nbformat": 4,
  "nbformat_minor": 0,
  "metadata": {
    "colab": {
      "provenance": [],
      "gpuType": "T4"
    },
    "kernelspec": {
      "name": "python3",
      "display_name": "Python 3"
    },
    "language_info": {
      "name": "python"
    },
    "accelerator": "GPU",
    "widgets": {
      "application/vnd.jupyter.widget-state+json": {
        "60df2aa8ac9e4fc18a806098be965059": {
          "model_module": "@jupyter-widgets/controls",
          "model_name": "FloatProgressModel",
          "model_module_version": "1.5.0",
          "state": {
            "_dom_classes": [],
            "_model_module": "@jupyter-widgets/controls",
            "_model_module_version": "1.5.0",
            "_model_name": "FloatProgressModel",
            "_view_count": null,
            "_view_module": "@jupyter-widgets/controls",
            "_view_module_version": "1.5.0",
            "_view_name": "ProgressView",
            "bar_style": "",
            "description": "",
            "description_tooltip": null,
            "layout": "IPY_MODEL_0f7ac0ed613847a9af3fcce9b062e00d",
            "max": 100,
            "min": 0,
            "orientation": "horizontal",
            "style": "IPY_MODEL_7b29e66d50d8459b8949df021005ddcf",
            "value": 100
          }
        },
        "0f7ac0ed613847a9af3fcce9b062e00d": {
          "model_module": "@jupyter-widgets/base",
          "model_name": "LayoutModel",
          "model_module_version": "1.2.0",
          "state": {
            "_model_module": "@jupyter-widgets/base",
            "_model_module_version": "1.2.0",
            "_model_name": "LayoutModel",
            "_view_count": null,
            "_view_module": "@jupyter-widgets/base",
            "_view_module_version": "1.2.0",
            "_view_name": "LayoutView",
            "align_content": null,
            "align_items": null,
            "align_self": null,
            "border": null,
            "bottom": null,
            "display": null,
            "flex": null,
            "flex_flow": null,
            "grid_area": null,
            "grid_auto_columns": null,
            "grid_auto_flow": null,
            "grid_auto_rows": null,
            "grid_column": null,
            "grid_gap": null,
            "grid_row": null,
            "grid_template_areas": null,
            "grid_template_columns": null,
            "grid_template_rows": null,
            "height": null,
            "justify_content": null,
            "justify_items": null,
            "left": null,
            "margin": null,
            "max_height": null,
            "max_width": null,
            "min_height": null,
            "min_width": null,
            "object_fit": null,
            "object_position": null,
            "order": null,
            "overflow": null,
            "overflow_x": null,
            "overflow_y": null,
            "padding": null,
            "right": null,
            "top": null,
            "visibility": null,
            "width": "auto"
          }
        },
        "7b29e66d50d8459b8949df021005ddcf": {
          "model_module": "@jupyter-widgets/controls",
          "model_name": "ProgressStyleModel",
          "model_module_version": "1.5.0",
          "state": {
            "_model_module": "@jupyter-widgets/controls",
            "_model_module_version": "1.5.0",
            "_model_name": "ProgressStyleModel",
            "_view_count": null,
            "_view_module": "@jupyter-widgets/base",
            "_view_module_version": "1.2.0",
            "_view_name": "StyleView",
            "bar_color": "black",
            "description_width": ""
          }
        },
        "c270ffd6c16b43218d8cb29329763bdd": {
          "model_module": "@jupyter-widgets/controls",
          "model_name": "FloatProgressModel",
          "model_module_version": "1.5.0",
          "state": {
            "_dom_classes": [],
            "_model_module": "@jupyter-widgets/controls",
            "_model_module_version": "1.5.0",
            "_model_name": "FloatProgressModel",
            "_view_count": null,
            "_view_module": "@jupyter-widgets/controls",
            "_view_module_version": "1.5.0",
            "_view_name": "ProgressView",
            "bar_style": "",
            "description": "",
            "description_tooltip": null,
            "layout": "IPY_MODEL_08b5610499a948f993ff888d21f5d218",
            "max": 100,
            "min": 0,
            "orientation": "horizontal",
            "style": "IPY_MODEL_5b3f85112ec1422fac4415647fc59cd9",
            "value": 100
          }
        },
        "08b5610499a948f993ff888d21f5d218": {
          "model_module": "@jupyter-widgets/base",
          "model_name": "LayoutModel",
          "model_module_version": "1.2.0",
          "state": {
            "_model_module": "@jupyter-widgets/base",
            "_model_module_version": "1.2.0",
            "_model_name": "LayoutModel",
            "_view_count": null,
            "_view_module": "@jupyter-widgets/base",
            "_view_module_version": "1.2.0",
            "_view_name": "LayoutView",
            "align_content": null,
            "align_items": null,
            "align_self": null,
            "border": null,
            "bottom": null,
            "display": null,
            "flex": null,
            "flex_flow": null,
            "grid_area": null,
            "grid_auto_columns": null,
            "grid_auto_flow": null,
            "grid_auto_rows": null,
            "grid_column": null,
            "grid_gap": null,
            "grid_row": null,
            "grid_template_areas": null,
            "grid_template_columns": null,
            "grid_template_rows": null,
            "height": null,
            "justify_content": null,
            "justify_items": null,
            "left": null,
            "margin": null,
            "max_height": null,
            "max_width": null,
            "min_height": null,
            "min_width": null,
            "object_fit": null,
            "object_position": null,
            "order": null,
            "overflow": null,
            "overflow_x": null,
            "overflow_y": null,
            "padding": null,
            "right": null,
            "top": null,
            "visibility": null,
            "width": "auto"
          }
        },
        "5b3f85112ec1422fac4415647fc59cd9": {
          "model_module": "@jupyter-widgets/controls",
          "model_name": "ProgressStyleModel",
          "model_module_version": "1.5.0",
          "state": {
            "_model_module": "@jupyter-widgets/controls",
            "_model_module_version": "1.5.0",
            "_model_name": "ProgressStyleModel",
            "_view_count": null,
            "_view_module": "@jupyter-widgets/base",
            "_view_module_version": "1.2.0",
            "_view_name": "StyleView",
            "bar_color": "black",
            "description_width": ""
          }
        }
      }
    }
  },
  "cells": [
    {
      "cell_type": "code",
      "execution_count": null,
      "metadata": {
        "colab": {
          "base_uri": "https://localhost:8080/"
        },
        "id": "IsBEduEOmfTI",
        "outputId": "4c501702-fc58-40c4-eabe-38968da5e740"
      },
      "outputs": [
        {
          "output_type": "stream",
          "name": "stdout",
          "text": [
            "Mounted at /content/drive\n"
          ]
        }
      ],
      "source": [
        "from google.colab import drive\n",
        "drive.mount('/content/drive')"
      ]
    },
    {
      "source": [
        "!ls /content/drive/MyDrive/Colab\\ Notebooks/BDM25/csv_data/"
      ],
      "cell_type": "code",
      "metadata": {
        "colab": {
          "base_uri": "https://localhost:8080/"
        },
        "id": "w43PTvaQouAh",
        "outputId": "b31b1fa7-0ce7-4a26-be71-399b74d4c4d2"
      },
      "execution_count": null,
      "outputs": [
        {
          "output_type": "stream",
          "name": "stdout",
          "text": [
            "appearances.csv   delta_data\t    persistent_data\t    transfers.csv\n",
            "club_games.csv\t  game_events.csv   persistent_data_Jintao\n",
            "clubs.csv\t  game_lineups.csv  players.csv\n",
            "competitions.csv  games.csv\t    player_valuations.csv\n"
          ]
        }
      ]
    },
    {
      "cell_type": "markdown",
      "source": [
        "**Trusted Zone**"
      ],
      "metadata": {
        "id": "3v0-SFfpFgJf"
      }
    },
    {
      "cell_type": "markdown",
      "source": [
        "For CSV"
      ],
      "metadata": {
        "id": "k50Nu9_rM1xv"
      }
    },
    {
      "cell_type": "code",
      "source": [
        "from pyspark.sql import SparkSession\n",
        "import os\n",
        "\n",
        "# Start a Spark session\n",
        "spark = SparkSession.builder \\\n",
        "    .appName(\"TrustedZoneFootballExtended\") \\\n",
        "    .getOrCreate()\n",
        "\n",
        "# Define the base folder paths\n",
        "data_path = \"/content/drive/MyDrive/Colab Notebooks/BDM25/csv_data/\"\n",
        "trusted_dir = \"/content/drive/MyDrive/Colab Notebooks/BDM25/trusted/\"\n"
      ],
      "metadata": {
        "id": "rqA1bh3Rzerk"
      },
      "execution_count": null,
      "outputs": []
    },
    {
      "cell_type": "code",
      "source": [
        "# Define the mapping of dataset names to file names\n",
        "csv_files = {\n",
        "    \"players\": \"players.csv\",\n",
        "    \"games\": \"games.csv\",\n",
        "    \"appearances\": \"appearances.csv\",\n",
        "    \"club_games\": \"club_games.csv\",\n",
        "    \"clubs\": \"clubs.csv\",\n",
        "    \"competitions\": \"competitions.csv\",\n",
        "    \"game_events\": \"game_events.csv\",\n",
        "    \"game_lineups\": \"game_lineups.csv\",\n",
        "    \"player_valuations\": \"player_valuations.csv\",\n",
        "    \"transfers\": \"transfers.csv\"\n",
        "}\n",
        "\n",
        "# Load each CSV into a Spark DataFrame\n",
        "dfs = {}\n",
        "for name, file in csv_files.items():\n",
        "    path = os.path.join(data_path, file)\n",
        "    dfs[name] = spark.read.csv(path, header=True, inferSchema=True)\n"
      ],
      "metadata": {
        "id": "vnw0vKUVzfx7"
      },
      "execution_count": null,
      "outputs": []
    },
    {
      "cell_type": "code",
      "source": [
        "dfs[\"players\"] = dfs[\"players\"].dropna(subset=[\"player_id\"]).dropDuplicates([\"player_id\"])\n",
        "dfs[\"games\"] = dfs[\"games\"].dropna(subset=[\"game_id\"]).dropDuplicates([\"game_id\"])\n",
        "dfs[\"appearances\"] = dfs[\"appearances\"].dropna(subset=[\"player_id\", \"game_id\"])\n",
        "dfs[\"club_games\"] = dfs[\"club_games\"].dropna(subset=[\"game_id\", \"club_id\"])\n",
        "dfs[\"clubs\"] = dfs[\"clubs\"].dropna(subset=[\"club_id\"]).dropDuplicates([\"club_id\"])\n",
        "dfs[\"competitions\"] = dfs[\"competitions\"].dropna(subset=[\"competition_id\"]).dropDuplicates([\"competition_id\"])\n",
        "dfs[\"game_events\"] = dfs[\"game_events\"].dropna(subset=[\"game_id\"])\n",
        "dfs[\"game_lineups\"] = dfs[\"game_lineups\"].dropna(subset=[\"game_id\", \"player_id\"])\n",
        "dfs[\"player_valuations\"] = dfs[\"player_valuations\"].dropna(subset=[\"player_id\", \"date\"])\n",
        "dfs[\"transfers\"] = dfs[\"transfers\"].dropna(subset=[\"player_id\", \"transfer_date\"])\n"
      ],
      "metadata": {
        "id": "PEab0WyRzh9g"
      },
      "execution_count": null,
      "outputs": []
    },
    {
      "cell_type": "code",
      "source": [
        "# Remove appearances with invalid player_id\n",
        "invalid_appearances = dfs[\"appearances\"].join(\n",
        "    dfs[\"players\"].select(\"player_id\"), on=\"player_id\", how=\"left_anti\"\n",
        ")\n",
        "\n",
        "# Save invalid rows for debugging\n",
        "invalid_appearances.write.mode(\"overwrite\").parquet(f\"{trusted_dir}invalid_appearances.parquet\")\n",
        "\n",
        "# Keep only valid appearances\n",
        "dfs[\"appearances\"] = dfs[\"appearances\"].join(\n",
        "    dfs[\"players\"].select(\"player_id\"), on=\"player_id\", how=\"inner\"\n",
        ")\n"
      ],
      "metadata": {
        "id": "X0uxjJNszkQ5"
      },
      "execution_count": null,
      "outputs": []
    },
    {
      "cell_type": "code",
      "source": [
        "for name, df in dfs.items():\n",
        "    df.write.mode(\"overwrite\").parquet(f\"{trusted_dir}{name}.parquet\")\n"
      ],
      "metadata": {
        "id": "yp3VVqoLzmLB"
      },
      "execution_count": null,
      "outputs": []
    },
    {
      "cell_type": "code",
      "source": [
        "con.execute(\"DROP TABLE IF EXISTS players;\")\n",
        "con.execute(\"DROP TABLE IF EXISTS games;\")\n",
        "con.execute(\"DROP TABLE IF EXISTS appearances;\")"
      ],
      "metadata": {
        "colab": {
          "base_uri": "https://localhost:8080/"
        },
        "id": "B3e6Nndezvyp",
        "outputId": "40c9f477-bb16-455b-b24d-88fe72ba52ed"
      },
      "execution_count": null,
      "outputs": [
        {
          "output_type": "execute_result",
          "data": {
            "text/plain": [
              "<duckdb.duckdb.DuckDBPyConnection at 0x7e5a64008bf0>"
            ]
          },
          "metadata": {},
          "execution_count": 28
        }
      ]
    },
    {
      "cell_type": "code",
      "source": [
        "import duckdb\n",
        "\n",
        "# Connect to DuckDB file\n",
        "con = duckdb.connect(f\"{trusted_dir}trusted_zone.duckdb\")\n",
        "\n",
        "# Ensure the parquet extension is available\n",
        "con.execute(\"INSTALL parquet; LOAD parquet;\")\n",
        "\n",
        "# Load each parquet dataset into a DuckDB table\n",
        "for name in dfs:\n",
        "    con.execute(f\"DROP TABLE IF EXISTS {name};\")\n",
        "    con.execute(f\"\"\"\n",
        "        CREATE TABLE {name} AS\n",
        "        SELECT * FROM parquet_scan('{trusted_dir}{name}.parquet/*.parquet');\n",
        "    \"\"\")\n"
      ],
      "metadata": {
        "colab": {
          "base_uri": "https://localhost:8080/",
          "height": 79,
          "referenced_widgets": [
            "60df2aa8ac9e4fc18a806098be965059",
            "0f7ac0ed613847a9af3fcce9b062e00d",
            "7b29e66d50d8459b8949df021005ddcf",
            "c270ffd6c16b43218d8cb29329763bdd",
            "08b5610499a948f993ff888d21f5d218",
            "5b3f85112ec1422fac4415647fc59cd9"
          ]
        },
        "id": "AMwU1WJIzqPN",
        "outputId": "39675874-ec36-40bf-ac6e-012d6d74a902"
      },
      "execution_count": null,
      "outputs": [
        {
          "output_type": "display_data",
          "data": {
            "text/plain": [
              "FloatProgress(value=0.0, layout=Layout(width='auto'), style=ProgressStyle(bar_color='black'))"
            ],
            "application/vnd.jupyter.widget-view+json": {
              "version_major": 2,
              "version_minor": 0,
              "model_id": "60df2aa8ac9e4fc18a806098be965059"
            }
          },
          "metadata": {}
        },
        {
          "output_type": "display_data",
          "data": {
            "text/plain": [
              "FloatProgress(value=0.0, layout=Layout(width='auto'), style=ProgressStyle(bar_color='black'))"
            ],
            "application/vnd.jupyter.widget-view+json": {
              "version_major": 2,
              "version_minor": 0,
              "model_id": "c270ffd6c16b43218d8cb29329763bdd"
            }
          },
          "metadata": {}
        }
      ]
    },
    {
      "cell_type": "code",
      "source": [
        "con.execute(\"SELECT COUNT(*) FROM players\").fetchall()"
      ],
      "metadata": {
        "colab": {
          "base_uri": "https://localhost:8080/"
        },
        "id": "7aIbNxBdz_k0",
        "outputId": "17652d66-bc42-4afb-9a7d-5b4cd1c1238c"
      },
      "execution_count": null,
      "outputs": [
        {
          "output_type": "execute_result",
          "data": {
            "text/plain": [
              "[(32601,)]"
            ]
          },
          "metadata": {},
          "execution_count": 30
        }
      ]
    },
    {
      "cell_type": "markdown",
      "source": [
        "For Video"
      ],
      "metadata": {
        "id": "HSxaUfX5L1Rk"
      }
    },
    {
      "cell_type": "code",
      "source": [
        "!pip install opencv-python"
      ],
      "metadata": {
        "colab": {
          "base_uri": "https://localhost:8080/"
        },
        "id": "MwfyOO9YL2iz",
        "outputId": "ea3f95d4-a5a4-4ffb-ff1c-48ac2b1c426f"
      },
      "execution_count": null,
      "outputs": [
        {
          "output_type": "stream",
          "name": "stdout",
          "text": [
            "Requirement already satisfied: opencv-python in /usr/local/lib/python3.11/dist-packages (4.11.0.86)\n",
            "Requirement already satisfied: numpy>=1.21.2 in /usr/local/lib/python3.11/dist-packages (from opencv-python) (2.0.2)\n"
          ]
        }
      ]
    },
    {
      "cell_type": "code",
      "source": [
        "from pyspark.sql import SparkSession\n",
        "import cv2\n",
        "import os\n",
        "\n",
        "\n",
        "spark = SparkSession.builder.appName(\"VideoMetadata\").getOrCreate()\n",
        "sc = spark.sparkContext\n",
        "\n",
        "\n",
        "video_path = \"/content/drive/MyDrive/Colab Notebooks/BDM25/video_data/Bundesliga1.mp4\"\n",
        "\n",
        "def extract_video_metadata(path):\n",
        "    if not os.path.exists(path):\n",
        "        return (path, \"Not Found\", None, None)\n",
        "\n",
        "    cap = cv2.VideoCapture(path)\n",
        "    if not cap.isOpened():\n",
        "        return (path, \"Cannot open\", None, None)\n",
        "\n",
        "\n",
        "    fps = cap.get(cv2.CAP_PROP_FPS)\n",
        "    frame_count = cap.get(cv2.CAP_PROP_FRAME_COUNT)\n",
        "    duration = frame_count / fps if fps else 0\n",
        "\n",
        "\n",
        "    width = int(cap.get(cv2.CAP_PROP_FRAME_WIDTH))\n",
        "    height = int(cap.get(cv2.CAP_PROP_FRAME_HEIGHT))\n",
        "    cap.release()\n",
        "\n",
        "    return (path, \"OK\", round(duration, 2), f\"{width}x{height}\")\n",
        "\n",
        "\n",
        "video_files_rdd = sc.parallelize([video_path])\n",
        "\n",
        "metadata_rdd = video_files_rdd.map(extract_video_metadata)\n",
        "\n",
        "#\n",
        "metadata_df = metadata_rdd.toDF([\"path\", \"status\", \"duration_sec\", \"resolution\"])\n",
        "\n",
        "#\n",
        "metadata_df.show(truncate=False)\n"
      ],
      "metadata": {
        "colab": {
          "base_uri": "https://localhost:8080/"
        },
        "id": "bHUP_KbsL5Ti",
        "outputId": "b3c17b24-6509-45f9-82f9-c531617c0f30"
      },
      "execution_count": null,
      "outputs": [
        {
          "output_type": "stream",
          "name": "stdout",
          "text": [
            "+-----------------------------------------------------------------------+------+------------+----------+\n",
            "|path                                                                   |status|duration_sec|resolution|\n",
            "+-----------------------------------------------------------------------+------+------------+----------+\n",
            "|/content/drive/MyDrive/Colab Notebooks/BDM25/video_data/Bundesliga1.mp4|OK    |123.04      |1920x1080 |\n",
            "+-----------------------------------------------------------------------+------+------------+----------+\n",
            "\n"
          ]
        }
      ]
    },
    {
      "cell_type": "markdown",
      "source": [
        "For JSON"
      ],
      "metadata": {
        "id": "lIiFuoxLMj3e"
      }
    },
    {
      "cell_type": "code",
      "source": [
        "from pyspark.sql import SparkSession\n",
        "from pyspark.sql.functions import explode, col\n",
        "\n",
        "spark = SparkSession.builder.appName(\"FlattenJSON\").getOrCreate()\n"
      ],
      "metadata": {
        "id": "VlMsQU_zMlrA"
      },
      "execution_count": null,
      "outputs": []
    },
    {
      "cell_type": "code",
      "source": [
        "json_path = \"/content/drive/MyDrive/Colab Notebooks/BDM25/video_data/Bundesliga1.json\"\n",
        "\n",
        "df = spark.read.option(\"multiline\", \"true\").json(json_path)\n",
        "df.printSchema()\n"
      ],
      "metadata": {
        "colab": {
          "base_uri": "https://localhost:8080/"
        },
        "id": "B6Z4Q395Mm8Q",
        "outputId": "f5598991-1bd7-456d-824d-225a95b03552"
      },
      "execution_count": null,
      "outputs": [
        {
          "output_type": "stream",
          "name": "stdout",
          "text": [
            "root\n",
            " |-- author: string (nullable = true)\n",
            " |-- like_count: long (nullable = true)\n",
            " |-- published_at: string (nullable = true)\n",
            " |-- text: string (nullable = true)\n",
            "\n"
          ]
        }
      ]
    }
  ]
}